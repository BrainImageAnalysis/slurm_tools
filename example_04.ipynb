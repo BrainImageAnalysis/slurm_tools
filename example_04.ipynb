{
 "cells": [
  {
   "cell_type": "code",
   "execution_count": null,
   "id": "57df5fc4-ce88-48d6-9b5c-4210a8d0a80c",
   "metadata": {},
   "outputs": [],
   "source": [
    "import os\n",
    "import sys\n",
    "sys.path.append(\"/disk/soft/bia_software/slurm_tools/\")\n",
    "from slurm import slurm_tools\n",
    "\n",
    "\n",
    "%load_ext autoreload\n",
    "%autoreload 2\n",
    "\n",
    "jobids=[]  \n",
    "for a in range(5):\n",
    "    SLURM_commands = [\"cd /disk/soft/\",\"ls -l\",\"sleep 10\",\"time\"];\n",
    "    jobid, success = slurm_tools.slurm_submit(SLURM_commands,\n",
    "        name = \"hello\",\n",
    "        output = '/disk/k_raid/usr/skibbe/slurm_logs/example_02_'+str(a)+'.out',\n",
    "        mem = '2GB',\n",
    "        cores = '2',\n",
    "        )      \n",
    "\n",
    "    print(\"job number: \"+jobid)\n",
    "\n",
    "    if not success:\n",
    "            print(\"could not submit jobs\")\n",
    "            print(format(jobid))\n",
    "            print(format(jobids))\n",
    "            slurm_tools.killall(jobids)\n",
    "    jobids.append(int(jobid))\n",
    "    \n",
    "\n",
    "slurm_tools.wait_for_jobs(jobids)\n"
   ]
  }
 ],
 "metadata": {
  "kernelspec": {
   "display_name": "Python [conda env:jupyterhub_a100]",
   "language": "python",
   "name": "conda-env-jupyterhub_a100-py"
  },
  "language_info": {
   "codemirror_mode": {
    "name": "ipython",
    "version": 3
   },
   "file_extension": ".py",
   "mimetype": "text/x-python",
   "name": "python",
   "nbconvert_exporter": "python",
   "pygments_lexer": "ipython3",
   "version": "3.8.6"
  }
 },
 "nbformat": 4,
 "nbformat_minor": 5
}
